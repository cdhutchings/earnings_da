{
 "cells": [
  {
   "cell_type": "markdown",
   "metadata": {},
   "source": [
    "# Analysing the Median and Mean of UK Earnings by Job Type and Location\n",
    "\n",
    "Following on from the cleaning performed in the `final_cleaning` notebook. I now wish to actually perform some data analysis on the `.csv` files I was able to produce."
   ]
  },
  {
   "cell_type": "code",
   "execution_count": 2,
   "metadata": {},
   "outputs": [],
   "source": [
    "import numpy as np\n",
    "import pandas as pd\n",
    "from pandas import Series,DataFrame\n",
    "from numpy.random import randn, rand\n",
    "import matplotlib as mpl\n",
    "import matplotlib.pyplot as plt\n",
    "import seaborn as sbn"
   ]
  },
  {
   "cell_type": "markdown",
   "metadata": {},
   "source": [
    "Importing the means and medians `.csv`s produced during the cleaning phase "
   ]
  },
  {
   "cell_type": "code",
   "execution_count": 3,
   "metadata": {},
   "outputs": [],
   "source": [
    "means = pd.read_csv(\"mean_earnings.csv\")\n",
    "meds = pd.read_csv(\"median_earnings.csv\")"
   ]
  },
  {
   "cell_type": "markdown",
   "metadata": {},
   "source": [
    "Showing the first few rows of these `.csv`s to show their structure"
   ]
  },
  {
   "cell_type": "code",
   "execution_count": 4,
   "metadata": {},
   "outputs": [
    {
     "data": {
      "text/html": [
       "<div>\n",
       "<style scoped>\n",
       "    .dataframe tbody tr th:only-of-type {\n",
       "        vertical-align: middle;\n",
       "    }\n",
       "\n",
       "    .dataframe tbody tr th {\n",
       "        vertical-align: top;\n",
       "    }\n",
       "\n",
       "    .dataframe thead th {\n",
       "        text-align: right;\n",
       "    }\n",
       "</style>\n",
       "<table border=\"1\" class=\"dataframe\">\n",
       "  <thead>\n",
       "    <tr style=\"text-align: right;\">\n",
       "      <th></th>\n",
       "      <th>Unnamed: 0</th>\n",
       "      <th>type</th>\n",
       "      <th>location</th>\n",
       "      <th>mean</th>\n",
       "    </tr>\n",
       "  </thead>\n",
       "  <tbody>\n",
       "    <tr>\n",
       "      <th>0</th>\n",
       "      <td>0</td>\n",
       "      <td>Processing and preserving of meat</td>\n",
       "      <td>Not classified</td>\n",
       "      <td>24318</td>\n",
       "    </tr>\n",
       "    <tr>\n",
       "      <th>1</th>\n",
       "      <td>1</td>\n",
       "      <td>Processing and preserving of meat</td>\n",
       "      <td>Greater Manchester MC</td>\n",
       "      <td>21129</td>\n",
       "    </tr>\n",
       "    <tr>\n",
       "      <th>2</th>\n",
       "      <td>2</td>\n",
       "      <td>Processing and preserving of meat</td>\n",
       "      <td>Lancashire</td>\n",
       "      <td>16195</td>\n",
       "    </tr>\n",
       "    <tr>\n",
       "      <th>3</th>\n",
       "      <td>3</td>\n",
       "      <td>Processing and preserving of meat</td>\n",
       "      <td>North Yorkshire</td>\n",
       "      <td>21797</td>\n",
       "    </tr>\n",
       "    <tr>\n",
       "      <th>4</th>\n",
       "      <td>4</td>\n",
       "      <td>Processing and preserving of meat</td>\n",
       "      <td>Lincolnshire</td>\n",
       "      <td>17584</td>\n",
       "    </tr>\n",
       "  </tbody>\n",
       "</table>\n",
       "</div>"
      ],
      "text/plain": [
       "   Unnamed: 0                                type                location  \\\n",
       "0           0  Processing and preserving of meat           Not classified   \n",
       "1           1  Processing and preserving of meat    Greater Manchester MC   \n",
       "2           2  Processing and preserving of meat               Lancashire   \n",
       "3           3  Processing and preserving of meat          North Yorkshire   \n",
       "4           4  Processing and preserving of meat             Lincolnshire   \n",
       "\n",
       "    mean  \n",
       "0  24318  \n",
       "1  21129  \n",
       "2  16195  \n",
       "3  21797  \n",
       "4  17584  "
      ]
     },
     "execution_count": 4,
     "metadata": {},
     "output_type": "execute_result"
    }
   ],
   "source": [
    "means.head()"
   ]
  },
  {
   "cell_type": "markdown",
   "metadata": {},
   "source": [
    "Producing pivot tables of each `.csv` which give the type of job along the vertical axis and the location along the horizontal axis"
   ]
  },
  {
   "cell_type": "code",
   "execution_count": 5,
   "metadata": {},
   "outputs": [],
   "source": [
    "mean_piv = means.pivot(\"type\",\"location\",\"mean\")\n",
    "median_piv = meds.pivot(\"type\",\"location\",\"median\")"
   ]
  },
  {
   "cell_type": "markdown",
   "metadata": {},
   "source": [
    "Finally listing grouped and sorted tables containing the mean and median earnings from each given "
   ]
  },
  {
   "cell_type": "code",
   "execution_count": 6,
   "metadata": {},
   "outputs": [],
   "source": [
    "loc_mean = means[[\"location\",\"mean\"]].groupby(by=\"location\").mean().sort_values(\"mean\",ascending=False)"
   ]
  },
  {
   "cell_type": "code",
   "execution_count": 8,
   "metadata": {},
   "outputs": [],
   "source": [
    "loc_med = meds[[\"location\",\"median\"]].groupby(by=\"location\").mean().sort_values(\"median\",ascending=False)"
   ]
  }
 ],
 "metadata": {
  "kernelspec": {
   "display_name": "Python 3",
   "language": "python",
   "name": "python3"
  },
  "language_info": {
   "codemirror_mode": {
    "name": "ipython",
    "version": 3
   },
   "file_extension": ".py",
   "mimetype": "text/x-python",
   "name": "python",
   "nbconvert_exporter": "python",
   "pygments_lexer": "ipython3",
   "version": "3.7.3"
  }
 },
 "nbformat": 4,
 "nbformat_minor": 2
}
