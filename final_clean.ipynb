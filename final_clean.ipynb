{
 "cells": [
  {
   "cell_type": "markdown",
   "metadata": {},
   "source": [
    "# Performing final clean\n",
    "\n",
    "This is a streamlined version of what was performed in the `cleaning` notebook"
   ]
  },
  {
   "cell_type": "code",
   "execution_count": 1,
   "metadata": {},
   "outputs": [],
   "source": [
    "import numpy as np\n",
    "import pandas as pd\n",
    "from pandas import Series,DataFrame\n",
    "from numpy.random import randn, rand\n",
    "import matplotlib as mpl\n",
    "import matplotlib.pyplot as plt\n",
    "import seaborn as sbn"
   ]
  },
  {
   "cell_type": "markdown",
   "metadata": {},
   "source": [
    "Importing the semi-structured Excel file (with relavent columns copied to a separate sheet in Excel)"
   ]
  },
  {
   "cell_type": "code",
   "execution_count": 18,
   "metadata": {},
   "outputs": [],
   "source": [
    "xls = pd.ExcelFile(\"edited_table.xlsx\")\n",
    "dframe = xls.parse(\"All\")\n",
    "dframe.set_axis([\"description\",\"code\",\"number_thou\",\"median\",\"perc_change_med\",\"mean\",\"perc_change_mean\",\n",
    "                 \"10\",\"20\",\"25\",\"30\",\"40\",\"60\",\"70\",\"75\",\"80\",\"90\"],axis=1,inplace=True)"
   ]
  },
  {
   "cell_type": "markdown",
   "metadata": {},
   "source": [
    "Creating two different DataFrames which contain only non-empty mean and median values. This also resets the index so it will match the indices of the other filtered DataFrames created later in this notebook."
   ]
  },
  {
   "cell_type": "code",
   "execution_count": 9,
   "metadata": {},
   "outputs": [],
   "source": [
    "mean_table = dframe.loc[~dframe[\"mean\"].isin([\"x\",np.nan])].reset_index()\n",
    "med_table = dframe.loc[~dframe[\"median\"].isin([\"x\",np.nan])].reset_index()"
   ]
  },
  {
   "cell_type": "markdown",
   "metadata": {},
   "source": [
    "Pulling out the Description column from the `.xlsx` file and separating it out into the type of job and the location of the job. \n",
    "This only works if I use the `rsplit` function rather than the `split` as the former reads from right to left. This allows me to split at the last comma."
   ]
  },
  {
   "cell_type": "code",
   "execution_count": 11,
   "metadata": {},
   "outputs": [],
   "source": [
    "red_table_mean = pd.DataFrame(mean_table.description.str.rsplit(\",\",1).tolist(),columns=[\"type\",\"location\"])\n",
    "red_table_med = pd.DataFrame(med_table.description.str.rsplit(\",\",1).tolist(),columns=[\"type\",\"location\"])"
   ]
  },
  {
   "cell_type": "markdown",
   "metadata": {},
   "source": [
    "Pulls the mean and median out of their respective tables and displays it on its own (along with the generated index, which now matches the indices produced above)"
   ]
  },
  {
   "cell_type": "code",
   "execution_count": 12,
   "metadata": {},
   "outputs": [],
   "source": [
    "means = mean_table[\"mean\"]\n",
    "meds = med_table[\"median\"]"
   ]
  },
  {
   "cell_type": "markdown",
   "metadata": {},
   "source": [
    "Joins the mean/median as well as the relavent reduced table (consisting of the type and location of the job)"
   ]
  },
  {
   "cell_type": "code",
   "execution_count": 13,
   "metadata": {},
   "outputs": [],
   "source": [
    "mean_join = red_table_mean.merge(means,left_index=True, right_index=True)\n",
    "med_join = red_table_med.merge(meds,left_index=True, right_index=True)"
   ]
  },
  {
   "cell_type": "markdown",
   "metadata": {},
   "source": [
    "Finally generates a `.csv` file of the joined tables. These can then be used to more easily get out relavent information for analysis."
   ]
  },
  {
   "cell_type": "code",
   "execution_count": 17,
   "metadata": {},
   "outputs": [],
   "source": [
    "mean_join.to_csv(\"mean_earnings.csv\")\n",
    "med_join.to_csv(\"median_earnings.csv\")"
   ]
  }
 ],
 "metadata": {
  "kernelspec": {
   "display_name": "Python 3",
   "language": "python",
   "name": "python3"
  },
  "language_info": {
   "codemirror_mode": {
    "name": "ipython",
    "version": 3
   },
   "file_extension": ".py",
   "mimetype": "text/x-python",
   "name": "python",
   "nbconvert_exporter": "python",
   "pygments_lexer": "ipython3",
   "version": "3.7.3"
  }
 },
 "nbformat": 4,
 "nbformat_minor": 2
}
